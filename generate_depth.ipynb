{
 "cells": [
  {
   "cell_type": "code",
   "execution_count": null,
   "id": "initial_id",
   "metadata": {
    "is_executing": true
   },
   "outputs": [
    {
     "name": "stderr",
     "output_type": "stream",
     "text": [
      "Using cache found in C:\\Users\\User/.cache\\torch\\hub\\intel-isl_MiDaS_master\n"
     ]
    },
    {
     "name": "stdout",
     "output_type": "stream",
     "text": [
      "Loading weights:  None\n"
     ]
    },
    {
     "name": "stderr",
     "output_type": "stream",
     "text": [
      "Using cache found in C:\\Users\\User/.cache\\torch\\hub\\rwightman_gen-efficientnet-pytorch_master\n",
      "Using cache found in C:\\Users\\User/.cache\\torch\\hub\\intel-isl_MiDaS_master\n"
     ]
    }
   ],
   "source": [
    "import torch\n",
    "import torchvision.transforms as transforms\n",
    "from utils.dataset import read_voc_dataset\n",
    "from PIL import Image\n",
    "import cv2\n",
    "import numpy as np\n",
    "import os\n",
    "import json\n",
    "import matplotlib.pyplot as plt"
   ]
  },
  {
   "cell_type": "code",
   "execution_count": null,
   "id": "6ca11e05-eec6-4519-8e0f-30bf0d65f160",
   "metadata": {},
   "outputs": [],
   "source": [
    "def generate_depth_map(image_path, model, transform, device):\n",
    "    img = cv2.imread(image_path)\n",
    "    img = cv2.cvtColor(img, cv2.COLOR_BGR2RGB)\n",
    "    input_batch = transform(img).to(device)\n",
    "    \n",
    "    with torch.no_grad():\n",
    "        prediction = model(input_batch)\n",
    "        prediction = torch.nn.functional.interpolate(\n",
    "            prediction.unsqueeze(1),\n",
    "            size=img.shape[:2],\n",
    "            mode=\"bicubic\",\n",
    "            align_corners=False,\n",
    "        ).squeeze()\n",
    "\n",
    "    return prediction.cpu().numpy()"
   ]
  },
  {
   "cell_type": "code",
   "execution_count": null,
   "id": "4f3fc810-45ac-41aa-af08-040217f107f2",
   "metadata": {},
   "outputs": [],
   "source": [
    "device = torch.device(\"cuda\") if torch.cuda.is_available() else torch.device(\"cpu\")\n",
    "# Load the MiDaS model\n",
    "model = torch.hub.load(\"intel-isl/MiDaS\", \"MiDaS_small\")\n",
    "model.to(device)\n",
    "model.eval()\n",
    "\n",
    "# Load transforms to MiDaS model\n",
    "midas_transforms = torch.hub.load(\"intel-isl/MiDaS\", \"transforms\")\n",
    "transform = midas_transforms.small_transform"
   ]
  },
  {
   "cell_type": "code",
   "execution_count": null,
   "id": "30d9119f-820b-4806-bef2-d1012e446462",
   "metadata": {},
   "outputs": [],
   "source": [
    "# Paths\n",
    "data_path = \"./data/PascalVOC2012/VOCdevkit/VOC2012\"\n",
    "depth_maps_path = os.path.join(data_path, \"depth_maps\")\n",
    "os.makedirs(depth_maps_path, exist_ok=True)\n",
    "image_path = os.path.join(data_path, 'JPEGImages')"
   ]
  },
  {
   "cell_type": "code",
   "execution_count": null,
   "id": "64d36a49-207b-489c-b75a-62773c82f26b",
   "metadata": {},
   "outputs": [],
   "source": [
    "# Generate depth maps for all images in image_path\n",
    "for filename in os.listdir(image_path):\n",
    "    if filename.endswith(\".jpg\"):\n",
    "        image_file = os.path.join(image_path, filename)\n",
    "        depth_map = generate_depth_map(image_file, model, transform, device)\n",
    "        depth_map_file = os.path.join(depth_maps_path, os.path.splitext(filename)[0] + \".jpg\")\n",
    "        cv2.imwrite(depth_map_file, depth_map)\n",
    "\n",
    "print(\"Depth maps generated and saved successfully.\")"
   ]
  }
 ],
 "metadata": {
  "kernelspec": {
   "display_name": "Python 3 (ipykernel)",
   "language": "python",
   "name": "python3"
  },
  "language_info": {
   "codemirror_mode": {
    "name": "ipython",
    "version": 3
   },
   "file_extension": ".py",
   "mimetype": "text/x-python",
   "name": "python",
   "nbconvert_exporter": "python",
   "pygments_lexer": "ipython3",
   "version": "3.9.19"
  }
 },
 "nbformat": 4,
 "nbformat_minor": 5
}
